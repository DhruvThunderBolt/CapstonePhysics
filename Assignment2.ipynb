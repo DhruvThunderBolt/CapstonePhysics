{
 "cells": [
  {
   "cell_type": "markdown",
   "metadata": {},
   "source": [
    "The following exercise is from <u> Computational Physics </u> by Mark Newman"
   ]
  },
  {
   "cell_type": "markdown",
   "metadata": {},
   "source": [
    "### Exercise 2.6: Planetary Orbits"
   ]
  },
  {
   "cell_type": "markdown",
   "metadata": {},
   "source": [
    "The orbit in space of one body around another, such as planets around the Sun, need not be circular. In general it takes the form of an ellipse, with the body sometimes closer in and sometimes further out. If you are given the distance $l_1$ of the closest approach that a planet makes to the Sun, also called <i>perihelion</i>, and its linear velocity $v_1$ at perihelion, then any other property of the orbit can be calculated from these two as follows."
   ]
  },
  {
   "cell_type": "markdown",
   "metadata": {},
   "source": [
    "<b>a)</b> Kepler's second law tells us that the distance $l_2$ and velocity $v_2$ of the planet at its most distant point, or <i>aphelion</i>, satisfies $l_2v_2 = l_1v_1$. At the same time the total energy, kinetic plus gravitational, of a planet with velocity $v$ and distance $r$ from the Sun is given by:\n",
    "$$ E = \\frac{1}{2} m v^{2} - G \\frac{mM}{r}$$\n",
    "where $m$ is the planet's mass, $M = 1.9891 \\times 10^{30}\\ kg$ is the mass of the Sun, and $G = 6.6738 \\times 10^{-11}\\ m^3kg^{-1}s^{-2}$ is Newton's gravitational constant. \n",
    "\n",
    "Given that energy must be conserved, $v_2$ is the smaller root of the quadratic equation:\n",
    "\n",
    "$$v_2^2 - \\frac{2GM}{v_1 l_1}v_2 - \\left[v_1^2 - \\frac{2GM}{l_1}\\right] = 0 $$"
   ]
  },
  {
   "cell_type": "markdown",
   "metadata": {},
   "source": [
    "Once we solve for $v_2$ we can calculate $l_2$ using the relation $l_2 = l_1 v_1 / v_2$."
   ]
  },
  {
   "cell_type": "code",
   "execution_count": 6,
   "metadata": {},
   "outputs": [],
   "source": [
    "# TO DO: By hand, solve for v_2 using quadratic equation above (note: if you do it right, it reduced very nicely)\n",
    "\n",
    "# BONUS CHALLENGE: Can you write the equation for v_2 using LaTex? \n",
    "\n",
    "# To format an equation using Latex, make sure you're in a Markdown cell. \n",
    "# Wrap everything you want formatted in dollar signs, for example: $ y = ax + b $\n",
    "# Reference my equations above to see how it works! \n",
    "# (Also Google is your best friend when it comes to LaTex)\n",
    "\n",
    "import math"
   ]
  },
  {
   "cell_type": "markdown",
   "metadata": {},
   "source": [
    "$$v_2 = \\frac{2GM}{v_1 l_1} - {v_1}$$"
   ]
  },
  {
   "cell_type": "markdown",
   "metadata": {},
   "source": [
    "<b>b)</b> Given the value of $v_1$, $l_1$, and $l_2$, other paramters of the orbit are given by simple formulas that can be derived from Kepler's laws and the fact that the orbit is an ellipse:\n",
    "\n",
    "\n",
    "Semi-major axis: $a = \\frac{1}{2} (l_1 + l_2) $\n",
    "\n",
    "Semi-minor axis: $ b = \\sqrt{l_1 l_2} $\n",
    "\n",
    "Orbital period: $ T = \\frac{2\\pi a b}{l_1 v_1} $\n",
    "\n",
    "Orbital eccentricity: $e = \\frac{l_2 - l_1}{l_2 + l_1} $"
   ]
  },
  {
   "cell_type": "markdown",
   "metadata": {},
   "source": [
    "Write a function that takes the distance to the Sun and the velocity at perihelion, then calculates and print the quantities $l_2$, $v_2$, $T$ and $e$."
   ]
  },
  {
   "cell_type": "code",
   "execution_count": 11,
   "metadata": {},
   "outputs": [],
   "source": [
    "# TO DO: Write a function that takes v_1, l_1, G, and M as parameters, and calculates l_2, v_2, T, and e.\n",
    "# MAKE SURE YOU COMMENT YOUR CODE\n",
    "def findParams(v_1, l_1, G, M):\n",
    "    v_2 = float ((2*G*M)/(v_1*l_1) - v_1)\n",
    "    l_2 = float ((l_1*v_1)/(v_2))\n",
    "    a = float (0.5*(l_1 + l_2))\n",
    "    b = float ((l_1*l_2)**0.5)\n",
    "    T = float ((2*math.pi*a*b)/(l_1*v_1))\n",
    "    e = float ((l_2-l_1)/(l_2+l_1))\n",
    "    return [l_2, v_2, T, e]"
   ]
  },
  {
   "cell_type": "markdown",
   "metadata": {},
   "source": [
    "<b> c) </b> Test your program by having it calculate the properties of the orbits of the Earth (for which $l_1 = 1.4710 \\times 10^{11} m$ and $v_1 = 3.0287 \\times 10^4 ms^{-1}$)\n",
    "\n",
    "(You should find the orbital period of the Earth is one year)"
   ]
  },
  {
   "cell_type": "code",
   "execution_count": 17,
   "metadata": {},
   "outputs": [
    {
     "name": "stdout",
     "output_type": "stream",
     "text": [
      "l_2 is  152027197208.65976\n",
      "v_2 is  29305.399177261308\n",
      "T is  31543060.207886893\n",
      "e is  0.016471913134741584\n"
     ]
    }
   ],
   "source": [
    "# TO DO: Calculate the properties of Earth's orbit\n",
    "# MAKE SURE YOU COMMENT YOUR CODE\n",
    "\n",
    "answer = findParams(3.0287E4, 1.4710E11, 6.6738E-11, 1.9891E30)\n",
    "print(\"l_2 is \", answer[0])\n",
    "print(\"v_2 is \", answer[1])\n",
    "print(\"T is \", answer[2])\n",
    "print(\"e is \", answer[3])\n",
    "\n",
    "\n",
    "\n"
   ]
  },
  {
   "cell_type": "markdown",
   "metadata": {},
   "source": [
    "<b> d) </b> Test your program by having it calculate the properties of the orbit of Halley's comet ($l_1 = 8.7830 \\times 10^{10} m$ and $v_1 = 5.4529 \\times 10^4 ms^{-1}$). \n",
    "\n",
    "What is the orbital period of Halley's comet?"
   ]
  },
  {
   "cell_type": "code",
   "execution_count": 16,
   "metadata": {},
   "outputs": [
    {
     "name": "stdout",
     "output_type": "stream",
     "text": [
      "l_2 is  5282214660876.42\n",
      "v_2 is  906.680696919153\n",
      "T is  2399312511.845174\n",
      "e is  0.967288912645406\n"
     ]
    }
   ],
   "source": [
    "# TO DO: Calculate the properties of Halley's comet's orbit\n",
    "# MAKE SURE YOU COMMENT YOUR CODE\n",
    "\n",
    "answer = findParams(5.4529E4, 8.7830E10, 6.6738E-11, 1.9891E30)\n",
    "print(\"l_2 is \", answer[0])\n",
    "print(\"v_2 is \", answer[1])\n",
    "print(\"T is \", answer[2])\n",
    "print(\"e is \", answer[3])"
   ]
  },
  {
   "cell_type": "code",
   "execution_count": null,
   "metadata": {},
   "outputs": [],
   "source": []
  }
 ],
 "metadata": {
  "kernelspec": {
   "display_name": "Python 3",
   "language": "python",
   "name": "python3"
  },
  "language_info": {
   "codemirror_mode": {
    "name": "ipython",
    "version": 3
   },
   "file_extension": ".py",
   "mimetype": "text/x-python",
   "name": "python",
   "nbconvert_exporter": "python",
   "pygments_lexer": "ipython3",
   "version": "3.8.8"
  }
 },
 "nbformat": 4,
 "nbformat_minor": 2
}
